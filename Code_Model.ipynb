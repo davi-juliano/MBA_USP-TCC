{
  "cells": [
    {
      "cell_type": "code",
      "execution_count": null,
      "metadata": {
        "colab": {
          "base_uri": "https://localhost:8080/"
        },
        "id": "94IxMxlo7vDo",
        "outputId": "0babe15e-62da-4ed4-ec99-34ab9fd9ec1c"
      },
      "outputs": [],
      "source": [
        "!pip install sktime\n",
        "!pip install pmdarima"
      ]
    },
    {
      "cell_type": "code",
      "execution_count": null,
      "metadata": {
        "colab": {
          "base_uri": "https://localhost:8080/"
        },
        "id": "lS5bOBTfVMUK",
        "outputId": "956d9fc2-cb10-49a7-f6f7-8b7bf5cb4363"
      },
      "outputs": [],
      "source": [
        "from pmdarima import auto_arima\n",
        "import pandas as pd\n",
        "import polars as pl\n",
        "import numpy as np\n",
        "import logging\n",
        "import time\n",
        "from os import listdir\n",
        "from os.path import isfile, join\n",
        "import datetime\n",
        "from google.colab import drive\n",
        "from sklearn.metrics import mean_absolute_error, mean_squared_error, r2_score\n",
        "from sklearn.preprocessing import StandardScaler\n",
        "from math import sqrt\n",
        "from prophet import Prophet\n",
        "import matplotlib.pyplot as plt\n",
        "from statsmodels.tsa.vector_ar.var_model import VAR\n",
        "from statsmodels.tsa.ar_model import AutoReg\n",
        "drive.mount('/content/drive')\n",
        "path_default = '/content/drive/MyDrive/TCC-MBA_USP_ESALQ/'"
      ]
    },
    {
      "cell_type": "code",
      "execution_count": null,
      "metadata": {
        "id": "W-Rer1hrK7iA"
      },
      "outputs": [],
      "source": [
        "############## Funções de tratativa dos dados ##############\n",
        "\n",
        "####### Função que trata os dados e insere estação, região e UF no dataframe meteorológico #######\n",
        "def insert_uf_df(df_info, df_general):\n",
        "    estacao = df_info.row(2)[1]\n",
        "    regiao = df_info.row(0)[1]\n",
        "    uf = df_info.row(1)[1]\n",
        "    indice_max = len(df_general)\n",
        "    lista_estacao = [estacao for j in range(indice_max)]\n",
        "    lista_regioes = [regiao for j in range(indice_max)]\n",
        "    lista_uf = [uf for j in range(indice_max)]\n",
        "    series_estacao = pl.Series(\"ESTAÇÃO\", lista_estacao)\n",
        "    series_regioes = pl.Series(\"REGIÕES\", lista_regioes)\n",
        "    series_uf = pl.Series(\"UF\", lista_uf)\n",
        "    df_general.insert_column(0, series_estacao)\n",
        "    df_general.insert_column(1, series_regioes)\n",
        "    df_general.insert_column(2, series_uf)\n",
        "    return df_info, df_general\n",
        "\n",
        "\n",
        "####### Função de leitura dos arquivos CSV de produção #######\n",
        "def read_all_csv_from_path(path):\n",
        "    dfs = []\n",
        "    onlyfiles = [f for f in listdir(path) if isfile(join(path, f))]\n",
        "    for filename in onlyfiles:\n",
        "        df = pl.read_csv(join(path, filename), separator=\";\")\n",
        "        dfs.append(df)\n",
        "    return pl.concat(dfs)\n",
        "\n",
        "\n",
        "####### Função de leitura dos arquivos CSV meteorológicos #######\n",
        "def read_all_met_csv_from_path(path):\n",
        "    dfs_info = []\n",
        "    dfs_general = []\n",
        "    onlyfiles = [f for f in listdir(path) if isfile(join(path, f))]\n",
        "    for filename in onlyfiles:\n",
        "        df_general = pl.read_csv(join(path, filename), has_header=False, skip_rows=8, encoding='latin1', separator=\";\")\n",
        "        df_info = pl.read_csv(join(path, filename), has_header=False, encoding='latin1', n_rows=8, separator=\";\", truncate_ragged_lines=True)\n",
        "        df_general = take_header_weather(df_general)\n",
        "        df_info, df_general = insert_uf_df(df_info, df_general)\n",
        "        dfs_info.append(df_info)\n",
        "        dfs_general.append(df_general)\n",
        "    return pl.concat(dfs_info), pl.concat(dfs_general)\n",
        "\n",
        "####### Função que pega o cabeçalho do arquivo meteorológico #######\n",
        "def take_header_weather(df):\n",
        "    lista = list(df.row(0))\n",
        "    lista[-1] = 'None Column'\n",
        "    df.columns = lista\n",
        "    df = df.slice(1, None)\n",
        "    return df\n",
        "\n",
        "####### Função que transforma data e hora para um datetime #######\n",
        "def data_and_hour_to_datetime(df):\n",
        "  date = df['DATA (YYYY-MM-DD)'].to_list()\n",
        "  hour = df['HORA (UTC)'].to_list()\n",
        "  datetime_list = [datetime.datetime.strptime(date[i] + \" \" + hour[i], \"%Y-%m-%d %H:%M\") for i in range(len(date))]\n",
        "  data_series = pl.Series('DATETIME', datetime_list)\n",
        "  df = df.insert_column(-1, data_series)\n",
        "  df = df.drop('DATA (YYYY-MM-DD)')\n",
        "  df = df.drop('HORA (UTC)')\n",
        "  return df\n",
        "\n",
        "\n",
        "######## Função que pega as médias de uma lista de valores #######\n",
        "def avg_function(lista):\n",
        "    if not lista:\n",
        "        return 0\n",
        "    return sum(lista) / len([i for i in lista if i != 0])\n",
        "\n",
        "\n",
        "####### Função que pega as médias dos dados meteorológicos para cada UF e Ano #######\n",
        "def take_mean_weather(df):\n",
        "    ano_list = [i.year for i in df['DATETIME'].to_list()]\n",
        "    data_series = pl.Series('ANO', ano_list)\n",
        "    df = df.insert_column(-1, data_series)\n",
        "    lista_ano = list(set(df[\"ANO\"].to_list()))\n",
        "    uf_lista = list(set(df[\"UF\"].to_list()))\n",
        "    dfs_list = []\n",
        "\n",
        "    for ano in lista_ano:\n",
        "      for ufs in uf_lista:\n",
        "        df_tot = df.filter((pl.col(\"UF\") == ufs))\n",
        "        list_df = []\n",
        "        lists_all = []\n",
        "\n",
        "        lists_all.append(list(map(float, map(lambda x: x.replace(',', '.'),df_tot['PRECIPITAÇÃO TOTAL, HORÁRIO (mm)'].to_list()))))\n",
        "        lists_all.append(list(map(float, map(lambda x: x.replace(',', '.'),df_tot['TEMPERATURA MÁXIMA NA HORA ANT. (AUT) (°C)'].to_list()))))\n",
        "        lists_all.append(list(map(float, map(lambda x: x.replace(',', '.'),df_tot['TEMPERATURA MÍNIMA NA HORA ANT. (AUT) (°C)'].to_list()))))\n",
        "        lists_all.append(list(map(float, map(lambda x: x.replace(',', '.'),df_tot['UMIDADE RELATIVA DO AR, HORARIA (%)'].to_list()))))\n",
        "        lists_all.append(list(map(float, map(lambda x: x.replace(',', '.'),df_tot['VENTO, VELOCIDADE HORARIA (m/s)'].to_list()))))\n",
        "        lists_all.append(list(map(float, map(lambda x: x.replace(',', '.'),df_tot['PRESSAO ATMOSFERICA AO NIVEL DA ESTACAO, HORARIA (mB)'].to_list()))))\n",
        "\n",
        "        lists_all[0] = [elemento for elemento in lists_all[0] if elemento > 0]\n",
        "        lists_all[1] = [elemento for elemento in lists_all[1] if elemento > 0]\n",
        "        lists_all[2] = [elemento for elemento in lists_all[2] if elemento > 0]\n",
        "        lists_all[3] = [elemento for elemento in lists_all[3] if elemento > 0]\n",
        "        lists_all[4] = [elemento for elemento in lists_all[4] if elemento > 0]\n",
        "        lists_all[5] = [elemento for elemento in lists_all[5] if elemento > 0]\n",
        "\n",
        "        list_df.append(avg_function(lists_all[0]))\n",
        "        list_df.append(avg_function(lists_all[1]))\n",
        "        list_df.append(avg_function(lists_all[2]))\n",
        "        list_df.append(avg_function(lists_all[3]))\n",
        "        list_df.append(avg_function(lists_all[4]))\n",
        "        list_df.append(avg_function(lists_all[5]))\n",
        "\n",
        "        dict_list = {'PRECIPITAÇÃO TOTAL, HORÁRIO (mm)': list_df[0], 'TEMPERATURA MÁXIMA, HORÁRIO (°C)':list_df[1], 'TEMPERATURA MÍNIMA, HORÁRIO (°C)': list_df[2],\n",
        "                  'UMIDADE RELATIVA, HORÁRIO (%)': list_df[3], 'VELOCIDADE DO VENTO, HORÁRIO (m/s)': list_df[4], 'PRESSÃO ATMOSFERICA, HORÁRIO (mB)': list_df[5],\n",
        "                  'UF': ufs, 'Ano': ano}\n",
        "\n",
        "        dfs_list.append(pl.DataFrame(dict_list))\n",
        "\n",
        "    return pl.concat(dfs_list)\n",
        "\n",
        "\n",
        "####### Função que pega as médias dos Valores de Medidas para cada UF e Ano #######\n",
        "def take_avg_df(df):\n",
        "  lista_ano = list(set(df['Ano'].to_list()))\n",
        "  lista_uf = list(set(df['UF'].to_list()))\n",
        "  lista_medidas = list(set(df['Nomes de medida'].to_list()))\n",
        "  variavel = []\n",
        "  quartel = []\n",
        "  ano = []\n",
        "  nivel = []\n",
        "  territorio = []\n",
        "  produto = []\n",
        "  valores_medida = []\n",
        "  ufs_list = []\n",
        "  medidas_list = []\n",
        "  ano_list = []\n",
        "\n",
        "  for ano in lista_ano:\n",
        "    for ufs in lista_uf:\n",
        "      for medidas in lista_medidas:\n",
        "        df_tot = df.filter((pl.col(\"UF\") == ufs) & (pl.col(\"Nomes de medida\") == medidas) & (pl.col(\"Ano\") == ano))\n",
        "\n",
        "        if df_tot.is_empty():\n",
        "          break\n",
        "\n",
        "        list_valores = [float(i.replace(',', '.')) for i in df_tot['Valores de medida'].to_list()]\n",
        "\n",
        "        medidas_list.append(medidas)\n",
        "        ufs_list.append(ufs)\n",
        "        variavel.append(df_tot['Variável'].to_list()[0])\n",
        "        quartel.append(df_tot['Quartel'].to_list()[0])\n",
        "        ano_list.append(ano)\n",
        "        nivel.append(df_tot['Nível'].to_list()[0])\n",
        "        territorio.append(df_tot['Território'].to_list()[0])\n",
        "        produto.append(df_tot['Produto'].to_list()[0])\n",
        "        valores_medida.append(avg_function(list_valores))\n",
        "\n",
        "  dict_list = {'UF': ufs_list, 'Variável': variavel, 'Quartel': quartel, 'Ano': ano_list, 'Nível': nivel, 'Território': territorio,\n",
        "               'Produto': produto, 'Nomes de medida':medidas_list, 'Valores de medida': valores_medida}\n",
        "\n",
        "  return pl.DataFrame(dict_list)\n",
        "\n",
        "\n",
        "####### Função que transforma o ano em datetime.date #######\n",
        "def year_to_date(df):\n",
        "  ano_list = [datetime.date(i, 1, 1) for i in df['Ano'].to_list()]\n",
        "  df = df.drop('Ano')\n",
        "  data_series = pl.Series('Ano', ano_list)\n",
        "  df = df.insert_column(-1, data_series)\n",
        "  return df\n",
        "\n",
        "\n",
        "\n",
        "####### Função que faz a previsão via Prophet #######\n",
        "def prophet_forecast(df, ylabel, save_path):\n",
        "    df_pandas = df.to_pandas()\n",
        "    df_pandas = df_pandas.rename(columns={'Ano': 'ds', 'Valores de medida': 'y'})\n",
        "    uf_lista = list(set(df_pandas[\"UF\"].to_list()))\n",
        "    fig, axs = plt.subplots(9, 3, figsize=(15, 30))\n",
        "    content_path = \"/content/drive/MyDrive/TCC-MBA_USP_ESALQ/\"\n",
        "    index = 0\n",
        "\n",
        "    mae_list = []\n",
        "    mse_list = []\n",
        "    rmse_list = []\n",
        "    mape_list = []\n",
        "    r2_list = []\n",
        "    uf_valid = []\n",
        "\n",
        "    for ufs in uf_lista:\n",
        "        i, j = divmod(index, 3)\n",
        "        df_uf = df_pandas[df_pandas['UF'] == ufs]\n",
        "\n",
        "        if df_uf.dropna().shape[0] < 2:\n",
        "            print(f'Pular UF {ufs}: menos de 2 linhas não-NaN')\n",
        "            continue\n",
        "\n",
        "        model = Prophet()\n",
        "        model.fit(df_uf)\n",
        "\n",
        "        future = model.make_future_dataframe(periods=3, freq='Y')\n",
        "        forecast = model.predict(future)\n",
        "        forecast_within = forecast.loc[forecast['ds'].isin(df_uf['ds'])]['yhat'].values\n",
        "\n",
        "        y_true = df_uf['y'].values\n",
        "        mae = mean_absolute_error(y_true, forecast_within)\n",
        "        mse = mean_squared_error(y_true, forecast_within)\n",
        "        rmse = np.sqrt(mse)\n",
        "        mape = np.mean(np.abs((y_true - forecast_within) / y_true)) * 100\n",
        "        r2 = r2_score(y_true, forecast_within)\n",
        "\n",
        "        mae_list.append(mae)\n",
        "        mse_list.append(mse)\n",
        "        rmse_list.append(rmse)\n",
        "        mape_list.append(mape)\n",
        "        r2_list.append(r2)\n",
        "        uf_valid.append(ufs)\n",
        "\n",
        "        model.plot(forecast, ax=axs[i, j])\n",
        "        axs[i, j].set_title(f'UF: {ufs}')\n",
        "        axs[i, j].set_xlabel('Ano')\n",
        "        axs[i, j].set_ylabel(ylabel)\n",
        "\n",
        "        index += 1\n",
        "\n",
        "    plt.tight_layout()\n",
        "    plt.savefig(content_path + save_path)\n",
        "    plt.show()\n",
        "\n",
        "    metrics_df = pd.DataFrame({\n",
        "        'UF': uf_valid,\n",
        "        'MAE': mae_list,\n",
        "        'MSE': mse_list,\n",
        "        'RMSE': rmse_list,\n",
        "        'MAPE': mape_list,\n",
        "        'R2': r2_list,\n",
        "        'Method': ['Prophet' for i in uf_valid]\n",
        "    })\n",
        "\n",
        "    return metrics_df\n",
        "\n",
        "\n",
        "####### Função que faz a previsão via ARIMA #######\n",
        "def autoarima_forecast(df, ylabel, save_path):\n",
        "    df_pandas = df.to_pandas()\n",
        "    df_pandas = df_pandas.rename(columns={'Ano': 'ds', 'Valores de medida': 'y'})\n",
        "    uf_lista = list(set(df_pandas[\"UF\"].to_list()))\n",
        "    content_path = \"/content/drive/MyDrive/TCC-MBA_USP_ESALQ/\"\n",
        "\n",
        "    fig, axs = plt.subplots(9, 3, figsize=(15, 30))\n",
        "    index = 0\n",
        "    periods = 2\n",
        "\n",
        "    mae_list = []\n",
        "    mse_list = []\n",
        "    rmse_list = []\n",
        "    mape_list = []\n",
        "    r2_list = []\n",
        "    uf_valid = []\n",
        "\n",
        "    for ufs in uf_lista:\n",
        "        i, j = divmod(index, 3)\n",
        "\n",
        "        df_uf = df_pandas[df_pandas['UF'] == ufs]\n",
        "        df_uf = df_uf.sort_values(by=['ds'])\n",
        "\n",
        "        if df_uf.dropna().shape[0] < 2:\n",
        "            print(f'Pular UF {ufs}: menos de 2 linhas não-NaN')\n",
        "            continue\n",
        "\n",
        "        model = auto_arima(df_uf['y'], seasonal=True, m=1)\n",
        "        forecast_within = model.predict_in_sample()\n",
        "        forecast = model.predict(n_periods=periods)\n",
        "\n",
        "        mae = mean_absolute_error(df_uf['y'], forecast_within)\n",
        "        mse = mean_squared_error(df_uf['y'], forecast_within)\n",
        "        rmse = np.sqrt(mse)\n",
        "        mape = np.mean(np.abs((df_uf['y'] - forecast_within) / df_uf['y'])) * 100\n",
        "        r2 = r2_score(df_uf['y'], forecast_within)\n",
        "\n",
        "        mae_list.append(mae)\n",
        "        mse_list.append(mse)\n",
        "        rmse_list.append(rmse)\n",
        "        mape_list.append(mape)\n",
        "        r2_list.append(r2)\n",
        "        uf_valid.append(ufs)\n",
        "\n",
        "        future_dates = [datetime.date(i, 1, 1) for i in list(range(df_uf['ds'].max().year + 1, df_uf['ds'].max().year + (1+periods)))]\n",
        "        forecast_df = pd.DataFrame({\n",
        "            'ds': future_dates,\n",
        "            'y': forecast\n",
        "        })\n",
        "        df_uf_filtered = df_uf[['ds', 'y']]\n",
        "        tot = pd.concat([df_uf_filtered, forecast_df])\n",
        "\n",
        "        axs[i, j].scatter(tot['ds'], tot['y'], label='Observado', color='black', s=10)\n",
        "        axs[i, j].plot(df_uf['ds'], forecast_within, label='ARIMA Regressão', color='tab:blue')\n",
        "        axs[i, j].set_title(f'UF: {ufs}')\n",
        "        axs[i, j].set_xlabel('Ano')\n",
        "        axs[i, j].set_ylabel(ylabel)\n",
        "        axs[i, j].legend()\n",
        "\n",
        "        index += 1\n",
        "\n",
        "    plt.tight_layout()\n",
        "    plt.savefig(content_path + save_path)\n",
        "    plt.show()\n",
        "\n",
        "    metrics_df = pd.DataFrame({\n",
        "        'UF': uf_valid,\n",
        "        'MAE': mae_list,\n",
        "        'MSE': mse_list,\n",
        "        'RMSE': rmse_list,\n",
        "        'MAPE': mape_list,\n",
        "        'R2': r2_list,\n",
        "        'Method': ['Arima' for i in uf_valid]\n",
        "    })\n",
        "\n",
        "    return metrics_df\n",
        "\n",
        "\n",
        "####### Função que faz a previsão via VAR #######\n",
        "def var_forecast(data, ylabel, save_path):\n",
        "    if isinstance(data, pl.DataFrame):\n",
        "        data = data.to_pandas()\n",
        "    uf_lista = list(set(data[\"UF\"].to_list()))\n",
        "    content_path = \"/content/drive/MyDrive/TCC-MBA_USP_ESALQ/\"\n",
        "    periods=2\n",
        "\n",
        "    fig, axs = plt.subplots(9, 3, figsize=(15, 30))\n",
        "    index = 0\n",
        "\n",
        "    mae_list = []\n",
        "    mse_list = []\n",
        "    rmse_list = []\n",
        "    mape_list = []\n",
        "    r2_list = []\n",
        "    uf_valid = []\n",
        "\n",
        "    for ufs in uf_lista:\n",
        "        i, j = divmod(index, 3)\n",
        "\n",
        "        df_uf = data[data['UF'] == ufs]\n",
        "        df_uf = df_uf.sort_values(by=['Ano'])\n",
        "        df_uf = df_uf.drop(columns=['Variável', 'Quartel', 'Nível', 'Território', 'Produto', 'Nomes de medida', 'UF'])\n",
        "\n",
        "        lista_anos = df_uf['Ano']\n",
        "        df_aux = df_uf.copy()\n",
        "        df_uf.set_index('Ano', inplace=True)\n",
        "        df_uf.index = pd.to_datetime(df_uf.index, format='%Y')\n",
        "        df_uf.columns = df_uf.columns.str.strip()\n",
        "        df_uf = df_uf.apply(pd.to_numeric, errors='coerce')\n",
        "        lag_order = 1\n",
        "        n_ahead = 2\n",
        "        df_uf = df_uf.dropna(subset=['Valores de medida'])\n",
        "\n",
        "        if len(df_uf) <= 4:\n",
        "          continue\n",
        "\n",
        "        print(df_uf)\n",
        "\n",
        "        if df_uf.isnull().values.any() or np.isinf(df_uf.values).any():\n",
        "          time_series = df_uf['Valores de medida']\n",
        "          ar_model = AutoReg(time_series, lags=lag_order).fit()\n",
        "          forecast = ar_model.predict(start=len(time_series), end=len(time_series) + n_ahead - 1)\n",
        "          forecast_fitted_df = pd.DataFrame(forecast,\n",
        "                                            index=pd.date_range(start=df_uf.index[-1], periods=len(forecast) + 1, freq='Y')[1:],\n",
        "                                            columns=['Valores de medida'])\n",
        "          forecast_within = ar_model.fittedvalues\n",
        "          actual_values = df_uf['Valores de medida'].iloc[lag_order:]\n",
        "          actual_dates = df_aux['Ano'].iloc[lag_order:]\n",
        "\n",
        "          mae = mean_absolute_error(actual_values, forecast_within)\n",
        "          mse = mean_squared_error(actual_values, forecast_within)\n",
        "          rmse = np.sqrt(mse)\n",
        "          mape = np.mean(np.abs((actual_values - forecast_within) / actual_values)) * 100\n",
        "          r2 = r2_score(actual_values, forecast_within)\n",
        "\n",
        "          mae_list.append(mae)\n",
        "          mse_list.append(mse)\n",
        "          rmse_list.append(rmse)\n",
        "          mape_list.append(mape)\n",
        "          r2_list.append(r2)\n",
        "          uf_valid.append(ufs)\n",
        "\n",
        "          future_dates = [datetime.date(i, 1, 1) for i in list(range(lista_anos.max().year + 1, lista_anos.max().year + (1+periods)))]\n",
        "          forecast_df = pd.DataFrame({\n",
        "              'Ano': future_dates,\n",
        "              'Valores de medida': forecast_fitted_df['Valores de medida'].tolist()\n",
        "              })\n",
        "          df_uf_filtered = df_aux[['Ano', 'Valores de medida']]\n",
        "          tot = pd.concat([df_uf_filtered, forecast_df])\n",
        "\n",
        "          axs[i, j].scatter(tot['Ano'], tot['Valores de medida'], label='Observado', color='black', s=10)\n",
        "          axs[i, j].plot(forecast_within.index, forecast_within, label='Previsão AR', color='tab:blue')\n",
        "\n",
        "          axs[i, j].set_title(f'UF: {ufs}')\n",
        "          axs[i, j].set_xlabel('Ano')\n",
        "          axs[i, j].set_ylabel(ylabel)\n",
        "          axs[i, j].legend()\n",
        "\n",
        "          index += 1\n",
        "\n",
        "        else:\n",
        "          lag_order = 1\n",
        "          n_ahead = 2\n",
        "          model = VAR(df_uf)\n",
        "          model_fitted = model.fit(lag_order)\n",
        "          forecast = model_fitted.forecast(df_uf.values[-lag_order:], steps=n_ahead)\n",
        "          forecast_fitted_df = pd.DataFrame(forecast,\n",
        "                            index=pd.date_range(start=df_uf.index[-1], periods=len(forecast) + 1, freq='Y')[1:],\n",
        "                            columns=df_uf.columns)\n",
        "          forecast_within = model_fitted.fittedvalues['Valores de medida']\n",
        "          actual_values = df_uf['Valores de medida'].iloc[lag_order:]\n",
        "          actual_dates = df_aux['Ano'].iloc[lag_order:]\n",
        "\n",
        "          mae = mean_absolute_error(actual_values, forecast_within)\n",
        "          mse = mean_squared_error(actual_values, forecast_within)\n",
        "          rmse = np.sqrt(mse)\n",
        "          mape = np.mean(np.abs((actual_values - forecast_within) / actual_values)) * 100\n",
        "          r2 = r2_score(actual_values, forecast_within)\n",
        "\n",
        "          mae_list.append(mae)\n",
        "          mse_list.append(mse)\n",
        "          rmse_list.append(rmse)\n",
        "          mape_list.append(mape)\n",
        "          r2_list.append(r2)\n",
        "          uf_valid.append(ufs)\n",
        "\n",
        "          future_dates = [datetime.date(i, 1, 1) for i in list(range(lista_anos.max().year + 1, lista_anos.max().year + (1+periods)))]\n",
        "          forecast_df = pd.DataFrame({\n",
        "              'Ano': future_dates,\n",
        "              'Valores de medida': forecast_fitted_df['Valores de medida'].tolist()\n",
        "              })\n",
        "          df_uf_filtered = df_aux[['Ano', 'Valores de medida']]\n",
        "          tot = pd.concat([df_uf_filtered, forecast_df])\n",
        "\n",
        "          axs[i, j].scatter(tot['Ano'], tot['Valores de medida'], label='Observado', color='black', s=10)\n",
        "          axs[i, j].plot(forecast_within.index, forecast_within, label='Previsão VAR', color='tab:blue')\n",
        "\n",
        "          axs[i, j].set_title(f'UF: {ufs}')\n",
        "          axs[i, j].set_xlabel('Ano')\n",
        "          axs[i, j].set_ylabel(ylabel)\n",
        "          axs[i, j].legend()\n",
        "\n",
        "          index += 1\n",
        "\n",
        "    plt.tight_layout()\n",
        "    plt.savefig(content_path + save_path)\n",
        "    plt.show()\n",
        "\n",
        "    metrics_df = pd.DataFrame({\n",
        "        'UF': uf_valid,\n",
        "        'MAE': mae_list,\n",
        "        'MSE': mse_list,\n",
        "        'RMSE': rmse_list,\n",
        "        'MAPE': mape_list,\n",
        "        'R2': r2_list,\n",
        "        'Method': ['VAR' for _ in uf_valid]\n",
        "    })\n",
        "\n",
        "    return metrics_df\n",
        "\n",
        "\n",
        "####### Função de plotting das métricas em gráficos salvos em uma pasta do Drive #######\n",
        "def metrics_graphics(df, save_path):\n",
        "  methods = ['Prophet', 'Arima', 'VAR']\n",
        "  content_path = \"/content/drive/MyDrive/TCC-MBA_USP_ESALQ/\"\n",
        "\n",
        "  mae_list = []\n",
        "  mse_list = []\n",
        "  rmse_list = []\n",
        "  mape_list = []\n",
        "  r2_list = []\n",
        "\n",
        "  lista_df_methods = [group for _, group in df.groupby('Method')]\n",
        "  valores_comuns = set(lista_df_methods[0]['UF'])\n",
        "  for method in lista_df_methods:\n",
        "    valores_comuns = valores_comuns.intersection(set(method['UF']))\n",
        "\n",
        "  lista_df_filtrada = [df[df['UF'].isin(valores_comuns)] for df in lista_df_methods]\n",
        "\n",
        "  for df_method in lista_df_filtrada:\n",
        "    df_method = df_method.sort_values(by=['UF'])\n",
        "    mae_list.append(df_method['MAE'].tolist())\n",
        "    mse_list.append(df_method['MSE'].tolist())\n",
        "    rmse_list.append(df_method['RMSE'].tolist())\n",
        "    mape_list.append(df_method['MAPE'].tolist())\n",
        "    r2_list.append(df_method['R2'].tolist())\n",
        "\n",
        "  uf_list = list(valores_comuns)\n",
        "\n",
        "  fig, axs = plt.subplots(5, 1, figsize=(15, 30))\n",
        "  axs[0].plot(uf_list, mae_list[0], color='tab:blue', label = methods[0])\n",
        "  axs[0].plot(uf_list, mae_list[1], color='black', label = methods[1])\n",
        "  axs[0].plot(uf_list, mae_list[2], color='tab:red', label = methods[2])\n",
        "  axs[0].set_title('MAE')\n",
        "  axs[0].legend()\n",
        "\n",
        "  axs[1].plot(uf_list, mse_list[0], color='tab:blue', label = methods[0])\n",
        "  axs[1].plot(uf_list, mse_list[1], color='black', label = methods[1])\n",
        "  axs[1].plot(uf_list, mse_list[2], color='tab:red', label = methods[2])\n",
        "  axs[1].set_title('MSE')\n",
        "  axs[1].legend()\n",
        "\n",
        "  axs[2].plot(uf_list, rmse_list[0], color='tab:blue', label = methods[0])\n",
        "  axs[2].plot(uf_list, rmse_list[1], color='black', label = methods[1])\n",
        "  axs[2].plot(uf_list, rmse_list[2], color='tab:red', label = methods[2])\n",
        "  axs[2].set_title('RMSE')\n",
        "  axs[2].legend()\n",
        "\n",
        "  axs[3].plot(uf_list, mape_list[0], color='tab:blue', label = methods[0])\n",
        "  axs[3].plot(uf_list, mape_list[1], color='black', label = methods[1])\n",
        "  axs[3].plot(uf_list, mape_list[2], color='tab:red', label = methods[2])\n",
        "  axs[3].set_title('MAPE')\n",
        "  axs[3].legend()\n",
        "\n",
        "  axs[4].plot(uf_list, r2_list[0], color='tab:blue', label = methods[0])\n",
        "  axs[4].plot(uf_list, r2_list[1], color='black', label = methods[1])\n",
        "  axs[4].plot(uf_list, r2_list[2], color='tab:red', label = methods[2])\n",
        "  axs[4].set_title('R2')\n",
        "  axs[4].legend()\n",
        "\n",
        "  plt.tight_layout()\n",
        "  plt.savefig(content_path + save_path)\n",
        "  plt.show()"
      ]
    },
    {
      "cell_type": "code",
      "execution_count": null,
      "metadata": {
        "id": "5CoxX-Wu4Z5w"
      },
      "outputs": [],
      "source": [
        "################ Todos os DataFrames Meteorológicos ################\n",
        "\n",
        "start = time.time()\n",
        "\n",
        "path_met_tot = '/content/drive/MyDrive/TCC-MBA_USP_ESALQ/Meteorologia/'\n",
        "onlyfiles = [f for f in listdir(path_met_tot) if not isfile(join(path_met_tot, f))]\n",
        "df_met_general_list = []\n",
        "for dir in onlyfiles:\n",
        "  df_met_info, df_met_general = read_all_met_csv_from_path(path_met_tot + dir)\n",
        "  df_met_general = data_and_hour_to_datetime(df_met_general)\n",
        "  df_met_general = take_mean_weather(df_met_general)\n",
        "  df_met_general_list.append(df_met_general)\n",
        "\n",
        "df_met_general = pl.concat(df_met_general_list)\n",
        "\n",
        "end = time.time()\n",
        "\n",
        "weather_export_time = end - start"
      ]
    },
    {
      "cell_type": "code",
      "execution_count": null,
      "metadata": {
        "id": "FCprFhieY1qx"
      },
      "outputs": [],
      "source": [
        "################ Todos os DataFrames dos Produtos ################\n",
        "\n",
        "start = time.time()\n",
        "\n",
        "################ Path e Dataframe referentes à Cana de Açúcar ################\n",
        "path_cana = 'Produtos/Cana/'\n",
        "df_cana = read_all_csv_from_path(path_default + path_cana)\n",
        "df_cana = take_avg_df(df_cana)\n",
        "df_cana = df_cana.join(df_met_general, on=['UF', 'Ano'], how='left')\n",
        "df_cana = year_to_date(df_cana)\n",
        "\n",
        "################ Path e Dataframe referentes à Milho ################\n",
        "path_milho = 'Produtos/Milho/'\n",
        "df_milho = read_all_csv_from_path(path_default + path_milho)\n",
        "df_milho  = take_avg_df(df_milho)\n",
        "df_milho = df_milho.join(df_met_general, on=['UF', 'Ano'], how='left')\n",
        "df_milho = year_to_date(df_milho)\n",
        "\n",
        "################ Path e Dataframe referentes à Soja ################\n",
        "path_soja = 'Produtos/Soja/'\n",
        "df_soja = read_all_csv_from_path(path_default + path_soja)\n",
        "df_soja = take_avg_df(df_soja)\n",
        "df_soja = df_soja.join(df_met_general, on=['UF', 'Ano'], how='left')\n",
        "df_soja = year_to_date(df_soja)\n",
        "\n",
        "end = time.time()\n",
        "\n",
        "product_export_time = end - start"
      ]
    },
    {
      "cell_type": "code",
      "execution_count": null,
      "metadata": {
        "id": "CROHfvX1vA6j"
      },
      "outputs": [],
      "source": [
        "################ Path e Dataframe referentes à Cana de Açúcar sem join com os dados meteorológicos ################\n",
        "path_cana = 'Produtos/Cana/'\n",
        "df_cana_solo = read_all_csv_from_path(path_default + path_cana)\n",
        "df_cana_solo = take_avg_df(df_cana_solo)\n",
        "df_cana_solo = year_to_date(df_cana_solo)\n",
        "\n",
        "################ Path e Dataframe referentes à Milho sem join com os dados meteorológicos  ################\n",
        "path_milho = 'Produtos/Milho/'\n",
        "df_milho_solo = read_all_csv_from_path(path_default + path_milho)\n",
        "df_milho_solo  = take_avg_df(df_milho_solo)\n",
        "df_milho_solo = year_to_date(df_milho_solo)\n",
        "\n",
        "################ Path e Dataframe referentes à Soja sem join com os dados meteorológicos  ################\n",
        "path_soja = 'Produtos/Soja/'\n",
        "df_soja_solo = read_all_csv_from_path(path_default + path_soja)\n",
        "df_soja_solo = take_avg_df(df_soja_solo)\n",
        "df_soja_solo = year_to_date(df_soja_solo)"
      ]
    },
    {
      "cell_type": "markdown",
      "metadata": {
        "id": "od_QZ1yArNzt"
      },
      "source": [
        "# Análise da Área Colhida dos Produtos"
      ]
    },
    {
      "cell_type": "markdown",
      "metadata": {
        "id": "L37Y5hKD8CWT"
      },
      "source": [
        "### Usando o Prophet"
      ]
    },
    {
      "cell_type": "code",
      "execution_count": null,
      "metadata": {
        "id": "Vg0SgAd9vvMj"
      },
      "outputs": [],
      "source": [
        "df_cana_area_solo = df_cana_solo.filter(pl.col(\"Nomes de medida\") == 'Área Colhida')\n",
        "df_milho_area_solo = df_milho_solo.filter(pl.col(\"Nomes de medida\") == 'Área Colhida')\n",
        "df_soja_area_solo = df_soja_solo.filter(pl.col(\"Nomes de medida\") == 'Área Colhida')"
      ]
    },
    {
      "cell_type": "code",
      "execution_count": null,
      "metadata": {
        "colab": {
          "base_uri": "https://localhost:8080/",
          "height": 1000
        },
        "id": "T9gK7JeFv1qy",
        "outputId": "a745c7cd-a0a5-4a98-f72a-1b14d2a352ce"
      },
      "outputs": [],
      "source": [
        "df_metricas_prophet_cana_area_solo = prophet_forecast(df_cana_area_solo, 'Área Colhida', \"plots_prophet/forecast_cana_colhida.png\")\n",
        "df_metricas_prophet_milho_area_solo = prophet_forecast(df_milho_area_solo, 'Área Colhida', \"plots_prophet/forecast_milho_colhida.png\")\n",
        "df_metricas_prophet_soja_area_solo = prophet_forecast(df_soja_area_solo, 'Área Colhida', \"plots_prophet/forecast_milho_colhida.png\")"
      ]
    },
    {
      "cell_type": "markdown",
      "metadata": {
        "id": "vaD3PI_gpYD-"
      },
      "source": [
        "### Usando AutoARIMA"
      ]
    },
    {
      "cell_type": "code",
      "execution_count": null,
      "metadata": {
        "colab": {
          "base_uri": "https://localhost:8080/",
          "height": 1000
        },
        "id": "esEvSTlGpVDN",
        "outputId": "8d69fa62-53e1-4fc8-8d90-96151edaad69"
      },
      "outputs": [],
      "source": [
        "df_metricas_arima_cana_area_solo = autoarima_forecast(df_cana_area_solo, 'Área Colhida', \"plots_arima/forecast_cana_colhida.png\")\n",
        "df_metricas_arima_milho_area_solo = autoarima_forecast(df_milho_area_solo, 'Área Colhida', \"plots_arima/forecast_milho_colhida.png\")\n",
        "df_metricas_arima_soja_area_solo = autoarima_forecast(df_soja_area_solo, 'Área Colhida', \"plots_arima/forecast_milho_colhida.png\")"
      ]
    },
    {
      "cell_type": "markdown",
      "metadata": {
        "id": "tkATyrMq9Tpl"
      },
      "source": [
        "### Usando o VAR"
      ]
    },
    {
      "cell_type": "code",
      "execution_count": null,
      "metadata": {
        "id": "heyPJKwpYhuj"
      },
      "outputs": [],
      "source": [
        "df_cana_area = df_cana.filter(pl.col(\"Nomes de medida\") == 'Área Colhida')\n",
        "df_milho_area = df_milho.filter(pl.col(\"Nomes de medida\") == 'Área Colhida')\n",
        "df_soja_area = df_soja.filter(pl.col(\"Nomes de medida\") == 'Área Colhida')"
      ]
    },
    {
      "cell_type": "code",
      "execution_count": null,
      "metadata": {
        "colab": {
          "base_uri": "https://localhost:8080/",
          "height": 1000
        },
        "id": "S2gY4Q4x1KU4",
        "outputId": "b51a6e4e-d2e9-43f7-a812-4e9d86f1dcaa"
      },
      "outputs": [],
      "source": [
        "df_metricas_var_cana_area = var_forecast(df_cana_area, 'Área Colhida', \"plots_var/forecast_cana_colhida.png\")\n",
        "df_metricas_var_milho_area = var_forecast(df_milho_area, 'Área Colhida', \"plots_var/forecast_milho_colhida.png\")\n",
        "df_metricas_var_soja_area = var_forecast(df_soja_area, 'Área Colhida', \"plots_var/forecast_milho_colhida.png\")"
      ]
    },
    {
      "cell_type": "markdown",
      "metadata": {
        "id": "TLdZimpKSHJL"
      },
      "source": [
        "## Análise de Métricas"
      ]
    },
    {
      "cell_type": "code",
      "execution_count": null,
      "metadata": {
        "colab": {
          "base_uri": "https://localhost:8080/",
          "height": 1000
        },
        "id": "USo73OLcRbcK",
        "outputId": "559c84eb-609e-43e7-97bf-511102f6d4f0"
      },
      "outputs": [],
      "source": [
        "df_metricas_total_cana_area_solo = pd.concat([df_metricas_prophet_cana_area_solo, df_metricas_arima_cana_area_solo, df_metricas_var_cana_area])\n",
        "df_metricas_total_milho_area_solo = pd.concat([df_metricas_prophet_milho_area_solo, df_metricas_arima_milho_area_solo, df_metricas_var_milho_area])\n",
        "df_metricas_total_soja_area_solo = pd.concat([df_metricas_prophet_soja_area_solo, df_metricas_arima_soja_area_solo, df_metricas_var_soja_area])\n",
        "\n",
        "df_metricas_total_cana_area_solo.to_excel('/content/drive/MyDrive/TCC-MBA_USP_ESALQ/metrics/metrics_cana_area_solo.xlsx')\n",
        "df_metricas_total_milho_area_solo.to_excel('/content/drive/MyDrive/TCC-MBA_USP_ESALQ/metrics/metrics_milho_area_solo.xlsx')\n",
        "df_metricas_total_soja_area_solo.to_excel('/content/drive/MyDrive/TCC-MBA_USP_ESALQ/metrics/metrics_soja_area_solo.xlsx')\n",
        "\n",
        "metrics_graphics(df_metricas_total_cana_area_solo, 'plots_metrics/metrics_cana_area_solo.png')\n",
        "metrics_graphics(df_metricas_total_milho_area_solo, 'plots_metrics/metrics_milho_area_solo.png')\n",
        "metrics_graphics(df_metricas_total_soja_area_solo, 'plots_metrics/metrics_soja_area_solo.png')"
      ]
    },
    {
      "cell_type": "markdown",
      "metadata": {
        "id": "uQOXz60erYYH"
      },
      "source": [
        "# Análise de Média de Produtividade dos Produtos"
      ]
    },
    {
      "cell_type": "code",
      "execution_count": null,
      "metadata": {
        "id": "n_35K7lDrv1O"
      },
      "outputs": [],
      "source": [
        "df_cana_medprod_solo = df_cana_solo.filter(pl.col(\"Nomes de medida\") == 'Média de Produtividade (Área Colhida)')\n",
        "df_milho_medprod_solo = df_milho_solo.filter(pl.col(\"Nomes de medida\") == 'Média de Produtividade (Área Colhida)')\n",
        "df_soja_medprod_solo = df_soja_solo.filter(pl.col(\"Nomes de medida\") == 'Média de Produtividade (Área Colhida)')"
      ]
    },
    {
      "cell_type": "markdown",
      "metadata": {
        "id": "q9osSFND8HtT"
      },
      "source": [
        "### Usando o Prophet"
      ]
    },
    {
      "cell_type": "code",
      "execution_count": null,
      "metadata": {
        "colab": {
          "base_uri": "https://localhost:8080/",
          "height": 1000
        },
        "id": "LGETVhl68NsH",
        "outputId": "8add5aed-4523-477f-b63a-074c50756db2"
      },
      "outputs": [],
      "source": [
        "df_metricas_prophet_cana_medprod_solo = prophet_forecast(df_cana_medprod_solo, 'Média de Produtividade', \"plots_prophet/forecast_cana_media.png\")\n",
        "df_metricas_prophet_milho_medprod_solo = prophet_forecast(df_milho_medprod_solo, 'Média de Produtividade', \"plots_prophet/forecast_milho_media.png\")\n",
        "df_metricas_prophet_soja_medprod_solo = prophet_forecast(df_soja_medprod_solo, 'Média de Produtividade', \"plots_prophet/forecast_soja_media.png\")"
      ]
    },
    {
      "cell_type": "markdown",
      "metadata": {
        "id": "D_e4etyEp4ie"
      },
      "source": [
        "### Usando o AutoARIMA"
      ]
    },
    {
      "cell_type": "code",
      "execution_count": null,
      "metadata": {
        "colab": {
          "base_uri": "https://localhost:8080/",
          "height": 1000
        },
        "id": "wYAub97Vp8MO",
        "outputId": "9535e8bd-ecc3-402f-9ea1-98bf0c118dd8"
      },
      "outputs": [],
      "source": [
        "df_metricas_arima_cana_medprod_solo = autoarima_forecast(df_cana_medprod_solo, 'Média de Produtividade', \"plots_arima/forecast_cana_media.png\")\n",
        "df_metricas_arima_milho_medprod_solo = autoarima_forecast(df_milho_medprod_solo, 'Média de Produtividade', \"plots_arima/forecast_milho_media.png\")\n",
        "df_metricas_arima_soja_medprod_solo = autoarima_forecast(df_soja_medprod_solo, 'Média de Produtividade', \"plots_arima/forecast_soja_media.png\")"
      ]
    },
    {
      "cell_type": "markdown",
      "metadata": {
        "id": "Mf5Wixc_Cxf1"
      },
      "source": [
        "## Usando o VAR"
      ]
    },
    {
      "cell_type": "code",
      "execution_count": null,
      "metadata": {
        "id": "QDvOyJiqCxNS"
      },
      "outputs": [],
      "source": [
        "df_cana_medprod = df_cana.filter(pl.col(\"Nomes de medida\") == 'Média de Produtividade (Área Colhida)')\n",
        "df_milho_medprod = df_milho.filter(pl.col(\"Nomes de medida\") == 'Média de Produtividade (Área Colhida)')\n",
        "df_soja_medprod = df_soja.filter(pl.col(\"Nomes de medida\") == 'Média de Produtividade (Área Colhida)')"
      ]
    },
    {
      "cell_type": "code",
      "execution_count": null,
      "metadata": {
        "colab": {
          "base_uri": "https://localhost:8080/",
          "height": 1000
        },
        "id": "3pm0l-NHDAL7",
        "outputId": "ea5f0dd8-c993-4748-c2c6-e38361087e05"
      },
      "outputs": [],
      "source": [
        "df_metricas_var_cana_medprod = var_forecast(df_cana_medprod, 'Média de Produtividade', \"plots_var/forecast_cana_media.png\")\n",
        "df_metricas_var_milho_medprod = var_forecast(df_milho_medprod, 'Média de Produtividade', \"plots_var/forecast_milho_media.png\")\n",
        "df_metricas_var_soja_medprod = var_forecast(df_soja_medprod, 'Média de Produtividade', \"plots_var/forecast_milho_media.png\")"
      ]
    },
    {
      "cell_type": "markdown",
      "metadata": {
        "id": "c6_7e1fxSEP7"
      },
      "source": [
        "## Análise de Métricas"
      ]
    },
    {
      "cell_type": "code",
      "execution_count": null,
      "metadata": {
        "colab": {
          "base_uri": "https://localhost:8080/",
          "height": 1000
        },
        "id": "ZPhZqP_3SD0y",
        "outputId": "6f025e4f-085c-4946-eb2f-a2c9337ae3e2"
      },
      "outputs": [],
      "source": [
        "df_metricas_total_cana_medprod_solo = pd.concat([df_metricas_prophet_cana_medprod_solo, df_metricas_arima_cana_medprod_solo, df_metricas_var_cana_medprod])\n",
        "df_metricas_total_milho_medprod_solo = pd.concat([df_metricas_prophet_milho_medprod_solo, df_metricas_arima_milho_medprod_solo, df_metricas_var_milho_medprod])\n",
        "df_metricas_total_soja_medprod_solo = pd.concat([df_metricas_prophet_soja_medprod_solo, df_metricas_arima_soja_medprod_solo, df_metricas_var_soja_medprod])\n",
        "\n",
        "df_metricas_total_cana_medprod_solo.to_excel('/content/drive/MyDrive/TCC-MBA_USP_ESALQ/metrics/metrics_cana_medprod_solo.xlsx')\n",
        "df_metricas_total_milho_medprod_solo.to_excel('/content/drive/MyDrive/TCC-MBA_USP_ESALQ/metrics/metrics_milho_medprod_solo.xlsx')\n",
        "df_metricas_total_soja_medprod_solo.to_excel('/content/drive/MyDrive/TCC-MBA_USP_ESALQ/metrics/metrics_soja_medprod_solo.xlsx')\n",
        "\n",
        "metrics_graphics(df_metricas_total_cana_medprod_solo, 'plots_metrics/metrics_cana_medprod_solo.png')\n",
        "metrics_graphics(df_metricas_total_milho_medprod_solo, 'plots_metrics/metrics_milho_medprod_solo.png')\n",
        "metrics_graphics(df_metricas_total_soja_medprod_solo, 'plots_metrics/metrics_soja_medprod_solo.png')"
      ]
    },
    {
      "cell_type": "markdown",
      "metadata": {
        "id": "GI-7CPqgrrOP"
      },
      "source": [
        "# Análise de Área Plantada dos Produtos"
      ]
    },
    {
      "cell_type": "code",
      "execution_count": null,
      "metadata": {
        "id": "QxUm7uW-r1Ee"
      },
      "outputs": [],
      "source": [
        "df_cana_plant_solo = df_cana_solo.filter(pl.col(\"Nomes de medida\") == 'Área Plantada')\n",
        "df_milho_plant_solo = df_milho_solo.filter(pl.col(\"Nomes de medida\") == 'Área Plantada')\n",
        "df_soja_plant_solo = df_soja_solo.filter(pl.col(\"Nomes de medida\") == 'Área Plantada')"
      ]
    },
    {
      "cell_type": "markdown",
      "metadata": {
        "id": "8YoCHro28I8w"
      },
      "source": [
        "### Usando o Prophet"
      ]
    },
    {
      "cell_type": "code",
      "execution_count": null,
      "metadata": {
        "colab": {
          "base_uri": "https://localhost:8080/",
          "height": 1000
        },
        "id": "nC3hgd_X8TKx",
        "outputId": "eb38cdb4-1177-422b-9bb4-3ecbf8dfdac4"
      },
      "outputs": [],
      "source": [
        "df_metricas_prophet_cana_plant_solo = prophet_forecast(df_cana_plant_solo, 'Área Plantada', \"plots_prophet/forecast_cana_plantada.png\")\n",
        "df_metricas_prophet_milho_plant_solo = prophet_forecast(df_milho_plant_solo, 'Área Plantada', \"plots_prophet/forecast_milho_plantada.png\")\n",
        "df_metricas_prophet_soja_plant_solo = prophet_forecast(df_soja_plant_solo, 'Área Plantada', \"plots_prophet/forecast_soja_plantada.png\")"
      ]
    },
    {
      "cell_type": "markdown",
      "metadata": {
        "id": "RDGIws_EqoLF"
      },
      "source": [
        "### Usando o AutoARIMA"
      ]
    },
    {
      "cell_type": "code",
      "execution_count": null,
      "metadata": {
        "colab": {
          "base_uri": "https://localhost:8080/",
          "height": 1000
        },
        "id": "S7AoVGF1qrSN",
        "outputId": "d23a4e82-46db-41e8-f3ac-d94cd89171a7"
      },
      "outputs": [],
      "source": [
        "df_metricas_arima_cana_plant_solo = autoarima_forecast(df_cana_plant_solo, 'Área Plantada', \"plots_arima/forecast_cana_plantada.png\")\n",
        "df_metricas_arima_milho_plant_solo = autoarima_forecast(df_milho_plant_solo, 'Área Plantada', \"plots_arima/forecast_milho_plantada.png\")\n",
        "df_metricas_arima_soja_plant_solo = autoarima_forecast(df_soja_plant_solo, 'Área Plantada', \"plots_arima/forecast_soja_plantada.png\")"
      ]
    },
    {
      "cell_type": "markdown",
      "metadata": {
        "id": "Dm9kp6iTEDf7"
      },
      "source": [
        "## Usando o VAR"
      ]
    },
    {
      "cell_type": "code",
      "execution_count": null,
      "metadata": {
        "id": "b5QM7sdVEDUq"
      },
      "outputs": [],
      "source": [
        "df_cana_plant = df_cana.filter(pl.col(\"Nomes de medida\") == 'Área Plantada')\n",
        "df_milho_plant = df_milho.filter(pl.col(\"Nomes de medida\") == 'Área Plantada')\n",
        "df_soja_plant = df_soja.filter(pl.col(\"Nomes de medida\") == 'Área Plantada')"
      ]
    },
    {
      "cell_type": "code",
      "execution_count": null,
      "metadata": {
        "colab": {
          "base_uri": "https://localhost:8080/",
          "height": 1000
        },
        "id": "NJsDBIe2EMec",
        "outputId": "11ca57c0-8bdd-4d28-f5fc-f853b41f3dcc"
      },
      "outputs": [],
      "source": [
        "df_metricas_var_cana_plant = var_forecast(df_cana_plant, 'Área Plantada', \"plots_var/forecast_cana_plantada.png\")\n",
        "df_metricas_var_milho_plant = var_forecast(df_milho_plant, 'Área Plantada', \"plots_var/forecast_milho_plantada.png\")\n",
        "df_metricas_var_soja_plant = var_forecast(df_soja_plant, 'Área Plantada', \"plots_var/forecast_milho_plantada.png\")"
      ]
    },
    {
      "cell_type": "markdown",
      "metadata": {
        "id": "EGiine9pSUNp"
      },
      "source": [
        "## Análise de Métricas"
      ]
    },
    {
      "cell_type": "code",
      "execution_count": null,
      "metadata": {
        "colab": {
          "base_uri": "https://localhost:8080/",
          "height": 1000
        },
        "id": "bWw5KUxISWMy",
        "outputId": "7696e79e-a98e-415e-ac6d-4a5d82e30591"
      },
      "outputs": [],
      "source": [
        "df_metricas_total_cana_plant_solo = pd.concat([df_metricas_prophet_cana_plant_solo, df_metricas_arima_cana_plant_solo, df_metricas_var_cana_plant])\n",
        "df_metricas_total_milho_plant_solo = pd.concat([df_metricas_prophet_milho_plant_solo, df_metricas_arima_milho_plant_solo, df_metricas_var_milho_plant])\n",
        "df_metricas_total_soja_plant_solo = pd.concat([df_metricas_prophet_soja_plant_solo, df_metricas_arima_soja_plant_solo, df_metricas_var_soja_plant])\n",
        "\n",
        "df_metricas_total_cana_plant_solo.to_excel('/content/drive/MyDrive/TCC-MBA_USP_ESALQ/metrics/metrics_cana_plant_solo.xlsx')\n",
        "df_metricas_total_milho_plant_solo.to_excel('/content/drive/MyDrive/TCC-MBA_USP_ESALQ/metrics/metrics_milho_plant_solo.xlsx')\n",
        "df_metricas_total_soja_plant_solo.to_excel('/content/drive/MyDrive/TCC-MBA_USP_ESALQ/metrics/metrics_soja_plant_solo.xlsx')\n",
        "\n",
        "metrics_graphics(df_metricas_total_cana_plant_solo, 'plots_metrics/metrics_cana_plant_solo.png')\n",
        "metrics_graphics(df_metricas_total_milho_plant_solo, 'plots_metrics/metrics_milho_plant_solo.png')\n",
        "metrics_graphics(df_metricas_total_soja_plant_solo, 'plots_metrics/metrics_soja_plant_solo.png')"
      ]
    },
    {
      "cell_type": "markdown",
      "metadata": {
        "id": "6JgvZ7hMrwmH"
      },
      "source": [
        "# Análise de Quantidade Produzida pelos Produtos"
      ]
    },
    {
      "cell_type": "code",
      "execution_count": null,
      "metadata": {
        "id": "-TNdgiOmtCx1"
      },
      "outputs": [],
      "source": [
        "df_cana_qnt_solo = df_cana_solo.filter(pl.col(\"Nomes de medida\") == 'Qtde Produzida')\n",
        "df_milho_qnt_solo = df_milho_solo.filter(pl.col(\"Nomes de medida\") == 'Qtde Produzida')\n",
        "df_soja_qnt_solo = df_soja_solo.filter(pl.col(\"Nomes de medida\") == 'Qtde Produzida')"
      ]
    },
    {
      "cell_type": "markdown",
      "metadata": {
        "id": "VR59coeR8KUZ"
      },
      "source": [
        "### Usando o Prophet"
      ]
    },
    {
      "cell_type": "code",
      "execution_count": null,
      "metadata": {
        "colab": {
          "base_uri": "https://localhost:8080/",
          "height": 1000
        },
        "id": "0OA33Y5hlNzW",
        "outputId": "136a4bd7-9068-4c86-e460-90aa072c91e4"
      },
      "outputs": [],
      "source": [
        "df_metricas_prophet_cana_qnt_solo = prophet_forecast(df_cana_qnt_solo, 'Qtde Produzida', \"plots_prophet/forecast_cana_produzida.png\")\n",
        "df_metricas_prophet_milho_qnt_solo = prophet_forecast(df_milho_qnt_solo, 'Qtde Produzida', \"plots_prophet/forecast_milho_produzida.png\")\n",
        "df_metricas_prophet_soja_qnt_solo = prophet_forecast(df_soja_qnt_solo, 'Qtde Produzida', \"plots_prophet/forecast_soja_produzida.png\")"
      ]
    },
    {
      "cell_type": "markdown",
      "metadata": {
        "id": "NPCS75Vnq8X1"
      },
      "source": [
        "### Usando o AutoARIMA"
      ]
    },
    {
      "cell_type": "code",
      "execution_count": null,
      "metadata": {
        "colab": {
          "base_uri": "https://localhost:8080/",
          "height": 1000
        },
        "id": "Y21kN4vDq-9e",
        "outputId": "e42574e3-2882-4894-ed8d-61a05184d275"
      },
      "outputs": [],
      "source": [
        "df_metricas_arima_cana_qnt_solo = autoarima_forecast(df_cana_qnt_solo, 'Qtde Produzida', \"plots_arima/forecast_cana_produzida.png\")\n",
        "df_metricas_arima_milho_qnt_solo = autoarima_forecast(df_milho_qnt_solo, 'Qtde Produzida', \"plots_arima/forecast_milho_produzida.png\")\n",
        "df_metricas_arima_soja_qnt_solo = autoarima_forecast(df_soja_qnt_solo, 'Qtde Produzida', \"plots_arima/forecast_soja_produzida.png\")"
      ]
    },
    {
      "cell_type": "markdown",
      "metadata": {
        "id": "1ZFoLJE8EjoU"
      },
      "source": [
        "## Usando o VAR"
      ]
    },
    {
      "cell_type": "code",
      "execution_count": null,
      "metadata": {
        "id": "HOAoDRh-Ejgc"
      },
      "outputs": [],
      "source": [
        "df_cana_qnt = df_cana.filter(pl.col(\"Nomes de medida\") == 'Qtde Produzida')\n",
        "df_milho_qnt = df_milho.filter(pl.col(\"Nomes de medida\") == 'Qtde Produzida')\n",
        "df_soja_qnt = df_soja.filter(pl.col(\"Nomes de medida\") == 'Qtde Produzida')"
      ]
    },
    {
      "cell_type": "code",
      "execution_count": null,
      "metadata": {
        "colab": {
          "base_uri": "https://localhost:8080/",
          "height": 1000
        },
        "id": "VEWIiG7_Es5V",
        "outputId": "93225192-12c3-488c-cdd9-8a89595c85f3"
      },
      "outputs": [],
      "source": [
        "df_metricas_var_cana_qnt = var_forecast(df_cana_qnt, 'Qtde Produzida', \"plots_var/forecast_cana_produzida.png\")\n",
        "df_metricas_var_milho_qnt = var_forecast(df_milho_qnt, 'Qtde Produzida', \"plots_var/forecast_milho_produzida.png\")\n",
        "df_metricas_var_soja_qnt = var_forecast(df_soja_qnt, 'Qtde Produzida', \"plots_var/forecast_milho_produzida.png\")"
      ]
    },
    {
      "cell_type": "markdown",
      "metadata": {
        "id": "GgClhlWESg2i"
      },
      "source": [
        "## Análise de Métricas"
      ]
    },
    {
      "cell_type": "code",
      "execution_count": null,
      "metadata": {
        "colab": {
          "base_uri": "https://localhost:8080/",
          "height": 1000
        },
        "id": "E1XMOuEsSgMK",
        "outputId": "85634158-50cf-41c9-b0f2-ee7e5f965f65"
      },
      "outputs": [],
      "source": [
        "df_metricas_total_cana_qnt_solo = pd.concat([df_metricas_prophet_cana_qnt_solo, df_metricas_arima_cana_qnt_solo, df_metricas_var_cana_qnt])\n",
        "df_metricas_total_milho_qnt_solo = pd.concat([df_metricas_prophet_milho_qnt_solo, df_metricas_arima_milho_qnt_solo, df_metricas_var_milho_qnt])\n",
        "df_metricas_total_soja_qnt_solo = pd.concat([df_metricas_prophet_soja_qnt_solo, df_metricas_arima_soja_qnt_solo, df_metricas_var_soja_qnt])\n",
        "\n",
        "df_metricas_total_cana_qnt_solo.to_excel('/content/drive/MyDrive/TCC-MBA_USP_ESALQ/metrics/metrics_cana_qnt_solo.xlsx')\n",
        "df_metricas_total_milho_qnt_solo.to_excel('/content/drive/MyDrive/TCC-MBA_USP_ESALQ/metrics/metrics_milho_qnt_solo.xlsx')\n",
        "df_metricas_total_soja_qnt_solo.to_excel('/content/drive/MyDrive/TCC-MBA_USP_ESALQ/metrics/metrics_soja_qnt_solo.xlsx')\n",
        "\n",
        "metrics_graphics(df_metricas_total_cana_qnt_solo, 'plots_metrics/metrics_cana_qnt_solo.png')\n",
        "metrics_graphics(df_metricas_total_milho_qnt_solo, 'plots_metrics/metrics_milho_qnt_solo.png')\n",
        "metrics_graphics(df_metricas_total_soja_qnt_solo, 'plots_metrics/metrics_soja_qnt_solo.png')"
      ]
    }
  ],
  "metadata": {
    "colab": {
      "provenance": []
    },
    "kernelspec": {
      "display_name": "Python 3",
      "name": "python3"
    },
    "language_info": {
      "name": "python"
    }
  },
  "nbformat": 4,
  "nbformat_minor": 0
}
